{
  "nbformat": 4,
  "nbformat_minor": 0,
  "metadata": {
    "colab": {
      "provenance": []
    },
    "kernelspec": {
      "name": "python3",
      "display_name": "Python 3"
    },
    "language_info": {
      "name": "python"
    }
  },
  "cells": [
    {
      "cell_type": "code",
      "execution_count": 1,
      "metadata": {
        "colab": {
          "base_uri": "https://localhost:8080/"
        },
        "id": "m1y5CyZJHZ9M",
        "outputId": "d77371a0-f6e2-44be-f2ef-4bd8bb497eae"
      },
      "outputs": [
        {
          "output_type": "stream",
          "name": "stdout",
          "text": [
            "Enter your name: Devanshu\n",
            "Hello, Devanshu!\n",
            "Enter the first value: 2\n",
            "Enter the second value: 4\n",
            "Original values: 2 4\n",
            "Swapped values: 4 2\n"
          ]
        }
      ],
      "source": [
        "# Q1\n",
        "name = input(\"Enter your name: \")\n",
        "print(\"Hello,\", name + \"!\")\n",
        "\n",
        "# Prompt user to enter two values\n",
        "value1 = input(\"Enter the first value: \")\n",
        "value2 = input(\"Enter the second value: \")\n",
        "\n",
        "# Print original values\n",
        "print(\"Original values:\", value1, value2)\n",
        "\n",
        "# Swap the values\n",
        "value1, value2 = value2, value1\n",
        "\n",
        "# Print swapped values\n",
        "print(\"Swapped values:\", value1, value2)\n"
      ]
    },
    {
      "cell_type": "code",
      "source": [
        "# Q2\n",
        "import math\n",
        "\n",
        "radius = float(input(\"Enter the radius of the circle: \"))\n",
        "area = math.pi * radius ** 2\n",
        "print(\"The area of the circle is:\", area)\n"
      ],
      "metadata": {
        "colab": {
          "base_uri": "https://localhost:8080/"
        },
        "id": "3JKjHQxZHlt_",
        "outputId": "19384291-91f6-4d63-ba72-dc497e1ebc60"
      },
      "execution_count": 2,
      "outputs": [
        {
          "output_type": "stream",
          "name": "stdout",
          "text": [
            "Enter the radius of the circle: 5\n",
            "The area of the circle is: 78.53981633974483\n"
          ]
        }
      ]
    },
    {
      "cell_type": "code",
      "source": [
        "# Q3\n",
        "from datetime import datetime\n",
        "\n",
        "birth_year = int(input(\"Enter your birth year: \"))\n",
        "current_year = datetime.now().year\n",
        "age = current_year - birth_year\n",
        "print(\"Your current age is:\", age)\n"
      ],
      "metadata": {
        "colab": {
          "base_uri": "https://localhost:8080/"
        },
        "id": "oKKaeSuTHqwq",
        "outputId": "38ce52cd-496d-416e-b537-2f992fcf6887"
      },
      "execution_count": 3,
      "outputs": [
        {
          "output_type": "stream",
          "name": "stdout",
          "text": [
            "Enter your birth year: 2003\n",
            "Your current age is: 21\n"
          ]
        }
      ]
    },
    {
      "cell_type": "code",
      "source": [
        "# Q4\n",
        "name = input(\"Enter your name: \")\n",
        "favorite_cake = input(\"Enter your favorite cake flavor: \")\n",
        "\n",
        "message = f\"Hello, {name}! We're delighted to serve you your favorite {favorite_cake} cake on your birthday. Happy Birthday.\"\n",
        "print(message)\n"
      ],
      "metadata": {
        "colab": {
          "base_uri": "https://localhost:8080/"
        },
        "id": "8vz6gIwGHwQH",
        "outputId": "b114a961-4081-4827-bfd2-4d2432f1e084"
      },
      "execution_count": 4,
      "outputs": [
        {
          "output_type": "stream",
          "name": "stdout",
          "text": [
            "Enter your name: Devanshu\n",
            "Enter your favorite cake flavor: Chocolate\n",
            "Hello, Devanshu! We're delighted to serve you your favorite Chocolate cake on your birthday. Happy Birthday.\n"
          ]
        }
      ]
    },
    {
      "cell_type": "code",
      "source": [
        "# Q5\n",
        "principal = float(input(\"Enter the principal amount: \"))\n",
        "rate = float(input(\"Enter the rate of interest (in percentage): \"))\n",
        "time = float(input(\"Enter the time period (in years): \"))\n",
        "\n",
        "simple_interest = (principal * rate * time) / 100\n",
        "print(\"Simple interest:\", simple_interest)\n"
      ],
      "metadata": {
        "colab": {
          "base_uri": "https://localhost:8080/"
        },
        "id": "udKqiEN5H51b",
        "outputId": "fcc32f0c-bc32-415c-eafa-f51a993633b2"
      },
      "execution_count": 5,
      "outputs": [
        {
          "output_type": "stream",
          "name": "stdout",
          "text": [
            "Enter the principal amount: 10000\n",
            "Enter the rate of interest (in percentage): 12\n",
            "Enter the time period (in years): 20\n",
            "Simple interest: 24000.0\n"
          ]
        }
      ]
    }
  ]
}