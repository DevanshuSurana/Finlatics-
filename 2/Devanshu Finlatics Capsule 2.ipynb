{
  "nbformat": 4,
  "nbformat_minor": 0,
  "metadata": {
    "colab": {
      "provenance": []
    },
    "kernelspec": {
      "name": "python3",
      "display_name": "Python 3"
    },
    "language_info": {
      "name": "python"
    }
  },
  "cells": [
    {
      "cell_type": "code",
      "execution_count": 3,
      "metadata": {
        "colab": {
          "base_uri": "https://localhost:8080/"
        },
        "id": "N6vcL_m4Okhu",
        "outputId": "f0ec7bc2-6fa3-4297-8ec4-b37fdda83806"
      },
      "outputs": [
        {
          "output_type": "stream",
          "name": "stdout",
          "text": [
            "Enter a year: 2024\n",
            "2024 is a leap year.\n"
          ]
        }
      ],
      "source": [
        "#Q1\n",
        "def is_leap_year(year):\n",
        "    if (year % 4 == 0 and year % 100 != 0) or (year % 400 == 0):\n",
        "        return True\n",
        "    else:\n",
        "        return False\n",
        "\n",
        "year = int(input(\"Enter a year: \"))\n",
        "if is_leap_year(year):\n",
        "    print(f\"{year} is a leap year.\")\n",
        "else:\n",
        "    print(f\"{year} is not a leap year.\")\n"
      ]
    },
    {
      "cell_type": "code",
      "source": [
        "#Q2\n",
        "def count_vowels(word):\n",
        "    vowels = 'aeiou'\n",
        "    count = 0\n",
        "    for char in word.lower():\n",
        "        if char in vowels:\n",
        "            count += 1\n",
        "    return count\n",
        "\n",
        "word = input(\"Enter a word: \")\n",
        "print(f\"Number of vowels in '{word}': {count_vowels(word)}\")\n"
      ],
      "metadata": {
        "colab": {
          "base_uri": "https://localhost:8080/"
        },
        "id": "QtqjbftcO3mG",
        "outputId": "b8928f1f-447b-400e-b63e-1a5ff9f37728"
      },
      "execution_count": 4,
      "outputs": [
        {
          "output_type": "stream",
          "name": "stdout",
          "text": [
            "Enter a word: Devanshu\n",
            "Number of vowels in 'Devanshu': 3\n"
          ]
        }
      ]
    },
    {
      "cell_type": "code",
      "source": [
        "#Q3\n",
        "names = [input(f\"Enter name {i+1}: \") for i in range(6)]\n",
        "a_names = [name for name in names if name.lower().startswith('a')]\n",
        "print(\"Names starting with 'a':\", a_names)\n"
      ],
      "metadata": {
        "colab": {
          "base_uri": "https://localhost:8080/"
        },
        "id": "Di8g4SdaO83U",
        "outputId": "ff6a2e8f-12ea-441e-84b7-9a142a698d75"
      },
      "execution_count": 5,
      "outputs": [
        {
          "output_type": "stream",
          "name": "stdout",
          "text": [
            "Enter name 1: Devanshu\n",
            "Enter name 2: Pranav\n",
            "Enter name 3: Ayushi\n",
            "Enter name 4: Prachiti\n",
            "Enter name 5: Ishani\n",
            "Enter name 6: Anuj\n",
            "Names starting with 'a': ['Ayushi', 'Anuj']\n"
          ]
        }
      ]
    },
    {
      "cell_type": "code",
      "source": [
        "#Q4\n",
        "numbers = [int(input(f\"Enter number {i+1}: \")) for i in range(10)]\n",
        "\n",
        "for num in numbers:\n",
        "    if num % 2 == 0:\n",
        "        print(num ** 2)\n",
        "    else:\n",
        "        print(num ** 3)\n"
      ],
      "metadata": {
        "colab": {
          "base_uri": "https://localhost:8080/"
        },
        "id": "dshIyzyiPH8b",
        "outputId": "1add4708-8dfc-4254-fd17-876551fa30c7"
      },
      "execution_count": 6,
      "outputs": [
        {
          "output_type": "stream",
          "name": "stdout",
          "text": [
            "Enter number 1: 4\n",
            "Enter number 2: 6\n",
            "Enter number 3: 8\n",
            "Enter number 4: 10\n",
            "Enter number 5: 12\n",
            "Enter number 6: 14\n",
            "Enter number 7: 16\n",
            "Enter number 8: 18\n",
            "Enter number 9: 20\n",
            "Enter number 10: 22\n",
            "16\n",
            "36\n",
            "64\n",
            "100\n",
            "144\n",
            "196\n",
            "256\n",
            "324\n",
            "400\n",
            "484\n"
          ]
        }
      ]
    },
    {
      "cell_type": "code",
      "source": [
        "#Q5\n",
        "rose_price = 10\n",
        "\n",
        "roses_count = int(input(\"Enter the count of roses you wish to order: \"))\n",
        "delivery_distance = float(input(\"Enter the delivery distance in kilometers: \"))\n",
        "\n",
        "delivery_charge = 25\n",
        "if delivery_distance > 5:\n",
        "    delivery_charge = 50\n",
        "if delivery_distance > 10:\n",
        "    delivery_charge = 75\n",
        "\n",
        "total_price = rose_price * roses_count + delivery_charge\n",
        "print(f\"Total price to pay: Rs. {total_price}\")\n"
      ],
      "metadata": {
        "colab": {
          "base_uri": "https://localhost:8080/"
        },
        "id": "Cnpz2Xn6PSst",
        "outputId": "c108b4ae-ef3a-4cac-9431-db1d1d89b78b"
      },
      "execution_count": 7,
      "outputs": [
        {
          "output_type": "stream",
          "name": "stdout",
          "text": [
            "Enter the count of roses you wish to order: 10\n",
            "Enter the delivery distance in kilometers: 22\n",
            "Total price to pay: Rs. 175\n"
          ]
        }
      ]
    }
  ]
}